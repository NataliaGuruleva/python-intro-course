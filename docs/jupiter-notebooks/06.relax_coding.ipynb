{
 "cells": [
  {
   "cell_type": "markdown",
   "metadata": {},
   "source": [
    "# Немного простого кодирования\n",
    "\n",
    "Для того чтобы размяться, расслабиться и получить ещё немножко удовольствия и очков.\n",
    "\n",
    "## A. Алгоритм Евклида\n",
    "\n",
    "[Тот самый](http://e-maxx.ru/algo/export_euclid_algorithm).\n",
    "\n",
    "Даны $a$ и $b$.\n",
    "\n",
    "$$\n",
    "\\text{gcd}(a,b) = \\begin{cases}\n",
    "a, & b = 0\\\\\n",
    "\\text{gcd}(b, a\\mod{}b), & b \\ne 0\n",
    "\\end{cases}\n",
    "$$\n",
    "\n",
    "Реализовать $\\text{gcd}$ на Python.\n",
    "\n",
    "## B. Реализовать функцию, которая отвечает, простое число, или нет\n",
    "\n",
    "Т.е. возвращает `True`, если оно простое, и `False` в противном случае.\n",
    "Можно совершенно «в лоб», с проверкой на делимость, но чтобы проверок было не больше, чем необходимо.\n",
    "\n",
    "Но поскольку это решение неоптимально, следует воспользоваться возможностями *мемоизации* — декоратором [`@functools.lru_cache`](https://docs.python.org/3/library/functools.html#functools.lru_cache). Он похволяет кешировать результаты функций **без побочных эффектов**, чтобы не считать многократно то, что уже посчитано. При этом при помощи директивы `%timeit` можно посмотреть, насколько мемоизация ускоряет работу функции."
   ]
  },
  {
   "cell_type": "code",
   "execution_count": null,
   "metadata": {},
   "outputs": [],
   "source": [
    "import functools\n",
    "\n",
    "def is_simple(value: 'int') -> 'bool':\n",
    "    raise NotImplementedError(\"Ой, меня не запрограммировали...\")\n",
    "\n",
    "@functools.lru_cache()\n",
    "def is_simple_cached(value: 'int') -> 'bool':\n",
    "    raise NotImplementedError(\"Ой, меня не запрограммировали...\")\n",
    "\n",
    "# На самом деле можно было написать так:\n",
    "# is_simple_cached = functools.lru_cache()(is_simple)\n",
    "# Всем понятно, почему две пары скобок?\n",
    "\n",
    "%timeit is_simple(500)\n",
    "%timeit is_simple_cached(500)\n",
    "# Впечатляет разница в скорости?\n",
    "print(is_simple_cached(500))"
   ]
  },
  {
   "cell_type": "markdown",
   "metadata": {},
   "source": [
    "## С. Расширенный Алгоритм Евклида\n",
    "\n",
    "Тоже [тот самый](http://e-maxx.ru/algo/export_extended_euclid_algorithm).\n",
    "\n",
    "Даны $a$ и $b$. Обратиться к своим знаниям алгебры (если они не помогли, то можно сходить по ссылке выше) и реализовать $\\text{egcd}$, такую что $\\text{egcd}(a, b) = \\left<x, y, \\text{gcd}(a, b)\\right>$, такие что $\\text{gcd}(a, b) = ax + by$."
   ]
  }
 ],
 "metadata": {
  "kernelspec": {
   "display_name": "Python 3",
   "language": "python",
   "name": "python3"
  },
  "language_info": {
   "codemirror_mode": {
    "name": "ipython",
    "version": 3
   },
   "file_extension": ".py",
   "mimetype": "text/x-python",
   "name": "python",
   "nbconvert_exporter": "python",
   "pygments_lexer": "ipython3",
   "version": "3.8.6"
  }
 },
 "nbformat": 4,
 "nbformat_minor": 4
}
